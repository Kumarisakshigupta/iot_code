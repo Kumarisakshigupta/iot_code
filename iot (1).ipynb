{
 "cells": [
  {
   "cell_type": "code",
   "execution_count": 16,
   "metadata": {},
   "outputs": [],
   "source": [
    "import pandas as pd\n",
    "import numpy as np\n",
    "import joblib\n",
    "import matplotlib.pyplot as plt\n",
    "% matplotlib inline\n",
    "\n",
    "from sklearn.model_selection import train_test_split\n",
    "\n",
    "from sklearn.metrics import accuracy_score\n",
    "\n",
    "from sklearn.tree import DecisionTreeClassifier\n",
    "\n",
    "from sklearn.preprocessing import LabelEncoder\n",
    "\n"
   ]
  },
  {
   "cell_type": "code",
   "execution_count": 17,
   "metadata": {},
   "outputs": [
    {
     "name": "stdout",
     "output_type": "stream",
     "text": [
      "    Sr. No.  Temprature  Humidity  Light Intensity Sample Plant Dies\n",
      "0         1          60        40               18                No\n",
      "1         2          64        39               24               Yes\n",
      "2         3          66        40               16                No\n",
      "3         4          74        50               16               Yes\n",
      "4         5          56        38               26                No\n",
      "5         6          45        50               18                No\n",
      "6         7          77        45               29               Yes\n",
      "7         8          62        44               22               Yes\n",
      "8         9          71        34                2                No\n",
      "9        10          34        23               18               Yes\n",
      "10       11          70        60               17               Yes\n",
      "11       12          80        60               14                No\n",
      "12       13          90        62               25               Yes\n",
      "13       14          85        48               28                No\n",
      "14       15          81        32               27                No\n",
      "15       16          71        39               26               Yes\n",
      "16       17          76        52               21               Yes\n",
      "17       18          74        55               19                No\n",
      "18       19          89        37               13               Yes\n",
      "19       20          87        49                7               Yes\n",
      "20       21          56        44               34               Yes\n",
      "21       22          79        51               25               Yes\n",
      "22       23          82        29               11               Yes\n",
      "23       24          59        52               26               Yes\n",
      "24       25          62        57               30                No\n"
     ]
    }
   ],
   "source": [
    "df = pd.read_csv(\"dd.csv\")\n",
    "print(df)"
   ]
  },
  {
   "cell_type": "code",
   "execution_count": 18,
   "metadata": {},
   "outputs": [],
   "source": [
    "df = df.sample(frac=1).reset_index(drop=True)"
   ]
  },
  {
   "cell_type": "code",
   "execution_count": 19,
   "metadata": {},
   "outputs": [],
   "source": [
    "df.head()\n",
    "\n",
    "def encode_categorical(df, column):\n",
    "    values = df[column].values.tolist()\n",
    "    lbl = LabelEncoder()\n",
    "    lbl.fit(values)\n",
    "    df.loc[:, column] = lbl.transform(df[column].values.tolist())\n",
    "    encoder = {}\n",
    "    encoder[column] = lbl\n",
    "    joblib.dump(encoder, f\"{column}_label_encoder.pkl\")\n",
    "\n",
    "    return df"
   ]
  },
  {
   "cell_type": "code",
   "execution_count": 20,
   "metadata": {},
   "outputs": [
    {
     "name": "stdout",
     "output_type": "stream",
     "text": [
      "Index(['Sr. No.', 'Temprature', 'Humidity', 'Light Intensity',\n",
      "       'Sample Plant Dies'],\n",
      "      dtype='object')\n"
     ]
    }
   ],
   "source": [
    "print(df.columns)"
   ]
  },
  {
   "cell_type": "code",
   "execution_count": 21,
   "metadata": {},
   "outputs": [],
   "source": [
    "df = encode_categorical(df, \"Sample Plant Dies\")"
   ]
  },
  {
   "cell_type": "code",
   "execution_count": 22,
   "metadata": {},
   "outputs": [
    {
     "name": "stdout",
     "output_type": "stream",
     "text": [
      "Score of Classifier: 1.0\n",
      "Predections for the test samples: [1 1 0 0 0 1 1]\n",
      "Accuracy of Model is: 1.0\n"
     ]
    }
   ],
   "source": [
    "df.head()\n",
    "\n",
    "X = df.drop('Sr. No.', axis=1)\n",
    "\n",
    "X_train, X_test, y_train, y_test = train_test_split(X, df[\"Sample Plant Dies\"], stratify=df[\"Sample Plant Dies\"],random_state=42)\n",
    "\n",
    "clf = DecisionTreeClassifier()\n",
    "\n",
    "clf.fit(X_train, y_train)\n",
    "\n",
    "print(\"Score of Classifier:\",clf.score(X_train, y_train))\n",
    "\n",
    "predictions = clf.predict(X_test)\n",
    "\n",
    "print(\"Predections for the test samples:\",predictions)\n",
    "\n",
    "print(\"Accuracy of Model is:\",accuracy_score(y_test, predictions))\n"
   ]
  },
  {
   "cell_type": "code",
   "execution_count": null,
   "metadata": {},
   "outputs": [],
   "source": []
  },
  {
   "cell_type": "code",
   "execution_count": 29,
   "metadata": {},
   "outputs": [],
   "source": []
  },
  {
   "cell_type": "code",
   "execution_count": null,
   "metadata": {},
   "outputs": [],
   "source": []
  },
  {
   "cell_type": "code",
   "execution_count": null,
   "metadata": {},
   "outputs": [],
   "source": []
  }
 ],
 "metadata": {
  "kernelspec": {
   "display_name": "Python 3",
   "language": "python",
   "name": "python3"
  },
  "language_info": {
   "codemirror_mode": {
    "name": "ipython",
    "version": 3
   },
   "file_extension": ".py",
   "mimetype": "text/x-python",
   "name": "python",
   "nbconvert_exporter": "python",
   "pygments_lexer": "ipython3",
   "version": "3.7.4"
  }
 },
 "nbformat": 4,
 "nbformat_minor": 2
}
